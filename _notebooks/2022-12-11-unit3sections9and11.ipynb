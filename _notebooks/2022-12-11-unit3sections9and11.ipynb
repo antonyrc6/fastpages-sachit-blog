{
 "cells": [
  {
   "cell_type": "markdown",
   "metadata": {},
   "source": [
    "# Unit 3 Sections 9 and 11 Hacks\n",
    "> Hacks\n",
    "\n",
    "- toc: true\n",
    "- badges: true\n",
    "- categories: [csp]"
   ]
  },
  {
   "cell_type": "markdown",
   "metadata": {},
   "source": [
    "### Question 1"
   ]
  },
  {
   "cell_type": "code",
   "execution_count": 3,
   "metadata": {},
   "outputs": [
    {
     "name": "stdout",
     "output_type": "stream",
     "text": [
      "True\n"
     ]
    }
   ],
   "source": [
    "# since only isCold OR isRaining needs to be true for \n",
    "# stayInside to be true, stayInside should be true in this case\n",
    "isCold = True\n",
    "isRaining = False\n",
    "stayInside = True\n",
    "\n",
    "if isCold == True or isRaining == True:\n",
    "    stayInside = True\n",
    "else:\n",
    "    stayInside = False\n",
    "\n",
    "print(stayInside) #stayInside is true because isCold is true"
   ]
  },
  {
   "cell_type": "markdown",
   "metadata": {},
   "source": [
    "### Question 2"
   ]
  },
  {
   "cell_type": "code",
   "execution_count": 14,
   "metadata": {},
   "outputs": [
    {
     "name": "stdout",
     "output_type": "stream",
     "text": [
      "Randomly Generated Numbers:\n",
      "9\n",
      "4\n",
      "10\n",
      "8\n",
      "Player's Score:\n",
      "10\n"
     ]
    }
   ],
   "source": [
    "import random\n",
    "number = 0\n",
    "greatest = 0\n",
    "\n",
    "print(\"Randomly Generated Numbers:\")\n",
    "\n",
    "for i in range(4):\n",
    "    number = random.randint(1,10)\n",
    "    print(number)\n",
    "    if number > greatest:\n",
    "        greatest = number\n",
    "\n",
    "print(\"Player's Score:\")\n",
    "print(greatest)\n",
    "\n"
   ]
  },
  {
   "cell_type": "markdown",
   "metadata": {},
   "source": [
    "### Question 3"
   ]
  },
  {
   "cell_type": "code",
   "execution_count": null,
   "metadata": {},
   "outputs": [],
   "source": [
    "while ArrowNotReachedGraySquare:\n",
    "    if CANMOVEFORWARD:\n",
    "        MOVEFORWARD\n",
    "    else:\n",
    "        TURNRIGHT"
   ]
  },
  {
   "cell_type": "markdown",
   "metadata": {},
   "source": [
    "### Question 4\n",
    "\n",
    "[Binary Search Tree](https://sachitcode.github.io/fastpages-sachit-blog/markdown/2022/12/11/sections9and11images.html)"
   ]
  },
  {
   "cell_type": "markdown",
   "metadata": {},
   "source": [
    "### Question 5"
   ]
  },
  {
   "cell_type": "markdown",
   "metadata": {},
   "source": [
    "Since this list is already ordered from least to greatest, we can skip this step. To find the number 69 in the list in question 4, we would first start by finding the middle element. Since there are an even number of elements in this list, there would be no middle element, so we would use the next element from the middle of the list which in this case would be 6. Since 6 is less than 69, we know that 69 is in the second half of the list with all the numbers greater than 6. Since the middle element of this half is 11 and is less than 69, we know that the number 69 is in the part of the list after the element 11. Since there is only one element in this part of the list, we know that this element is 69 and we have found the desired value 69."
   ]
  },
  {
   "cell_type": "markdown",
   "metadata": {},
   "source": [
    "### Question 6\n",
    "\n",
    "[Diagram](https://sachitcode.github.io/fastpages-sachit-blog/markdown/2022/12/11/sections9and11images.html)"
   ]
  },
  {
   "cell_type": "markdown",
   "metadata": {},
   "source": [
    "### Question 7"
   ]
  },
  {
   "cell_type": "markdown",
   "metadata": {},
   "source": [
    "Ordered List: [“store”,”Market”,”Walmart”,Target”,”Ralphs”]\n",
    "\n",
    "Arranging them in alphabetical order was the best way I could think of to get the list ready for binary search. I first thought of ordering them by length of each string, but then I realized this wouldn't work because some of the strings have the same length."
   ]
  },
  {
   "cell_type": "markdown",
   "metadata": {},
   "source": [
    "### Question 8\n",
    "\n",
    "Binary search is more efficient than sequential search because binary search removes half the elements every time which is very effective in pinpointing exactly where the desired element is. Sequential is usually less efficient because if the desired element is towards the end of the list or the list is very long, all the previous elements would have to be checked before reaching the desired element. Therefore, sequential search usually takes more checks to reach the desired value than binary search."
   ]
  },
  {
   "cell_type": "markdown",
   "metadata": {},
   "source": [
    "### Question 9\n",
    "\n",
    "[Binary Search Tree](https://sachitcode.github.io/fastpages-sachit-blog/markdown/2022/12/11/sections9and11images.html)\n",
    "\n",
    "If we are searching for the value 36, this will take 2 checks because the first middle index will be found to be 3 because (1+5)/2 = 3. Next the second middle index will be found to be 2 because (1+3)/2 = 2. Since index 2 is the value 36, 36 will be found on the second check."
   ]
  }
 ],
 "metadata": {
  "kernelspec": {
   "display_name": "Python 3.9.6 64-bit",
   "language": "python",
   "name": "python3"
  },
  "language_info": {
   "codemirror_mode": {
    "name": "ipython",
    "version": 3
   },
   "file_extension": ".py",
   "mimetype": "text/x-python",
   "name": "python",
   "nbconvert_exporter": "python",
   "pygments_lexer": "ipython3",
   "version": "3.9.6"
  },
  "orig_nbformat": 4,
  "vscode": {
   "interpreter": {
    "hash": "31f2aee4e71d21fbe5cf8b01ff0e069b9275f58929596ceb00d14d90e3e16cd6"
   }
  }
 },
 "nbformat": 4,
 "nbformat_minor": 2
}
