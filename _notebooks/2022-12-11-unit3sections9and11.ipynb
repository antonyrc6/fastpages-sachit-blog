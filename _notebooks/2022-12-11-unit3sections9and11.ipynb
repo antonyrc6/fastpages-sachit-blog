{
 "cells": [
  {
   "cell_type": "markdown",
   "metadata": {},
   "source": [
    "# Unit 3 Sections 9 and 11 Hacks\n",
    "> Hacks\n",
    "\n",
    "- toc: true\n",
    "- badges: true\n",
    "- categories: [csp]"
   ]
  },
  {
   "cell_type": "markdown",
   "metadata": {},
   "source": [
    "### Question 1"
   ]
  },
  {
   "cell_type": "code",
   "execution_count": 3,
   "metadata": {},
   "outputs": [
    {
     "name": "stdout",
     "output_type": "stream",
     "text": [
      "True\n"
     ]
    }
   ],
   "source": [
    "# since only isCold OR isRaining needs to be true for \n",
    "# stayInside to be true, stayInside should be true in this case\n",
    "isCold = True\n",
    "isRaining = False\n",
    "stayInside = True\n",
    "\n",
    "if isCold == True or isRaining == True:\n",
    "    stayInside = True\n",
    "else:\n",
    "    stayInside = False\n",
    "\n",
    "print(stayInside) #stayInside is true because isCold is true"
   ]
  },
  {
   "cell_type": "markdown",
   "metadata": {},
   "source": [
    "### Question 2"
   ]
  },
  {
   "cell_type": "code",
   "execution_count": 14,
   "metadata": {},
   "outputs": [
    {
     "name": "stdout",
     "output_type": "stream",
     "text": [
      "Randomly Generated Numbers:\n",
      "9\n",
      "4\n",
      "10\n",
      "8\n",
      "Player's Score:\n",
      "10\n"
     ]
    }
   ],
   "source": [
    "import random\n",
    "number = 0\n",
    "greatest = 0\n",
    "\n",
    "print(\"Randomly Generated Numbers:\")\n",
    "\n",
    "for i in range(4):\n",
    "    number = random.randint(1,10)\n",
    "    print(number)\n",
    "    if number > greatest:\n",
    "        greatest = number\n",
    "\n",
    "print(\"Player's Score:\")\n",
    "print(greatest)\n",
    "\n"
   ]
  },
  {
   "cell_type": "markdown",
   "metadata": {},
   "source": [
    "### Question 3"
   ]
  },
  {
   "cell_type": "code",
   "execution_count": null,
   "metadata": {},
   "outputs": [],
   "source": [
    "while ArrowNotReachedGraySquare:\n",
    "    if CANMOVEFORWARD:\n",
    "        MOVEFORWARD\n",
    "    else:\n",
    "        TURNRIGHT"
   ]
  },
  {
   "cell_type": "markdown",
   "metadata": {},
   "source": [
    "### Question 4"
   ]
  }
 ],
 "metadata": {
  "kernelspec": {
   "display_name": "Python 3.9.6 64-bit",
   "language": "python",
   "name": "python3"
  },
  "language_info": {
   "codemirror_mode": {
    "name": "ipython",
    "version": 3
   },
   "file_extension": ".py",
   "mimetype": "text/x-python",
   "name": "python",
   "nbconvert_exporter": "python",
   "pygments_lexer": "ipython3",
   "version": "3.9.6"
  },
  "orig_nbformat": 4,
  "vscode": {
   "interpreter": {
    "hash": "31f2aee4e71d21fbe5cf8b01ff0e069b9275f58929596ceb00d14d90e3e16cd6"
   }
  }
 },
 "nbformat": 4,
 "nbformat_minor": 2
}
