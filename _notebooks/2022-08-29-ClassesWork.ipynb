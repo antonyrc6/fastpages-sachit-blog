{
 "cells": [
  {
   "cell_type": "markdown",
   "metadata": {},
   "source": [
    "# Work for Classes (8/ - 8/28)"
   ]
  },
  {
   "cell_type": "markdown",
   "metadata": {},
   "source": [
    "### Marching Band\n",
    "\n",
    "- No HW!"
   ]
  },
  {
   "cell_type": "markdown",
   "metadata": {},
   "source": [
    "### Concert Band\n",
    "\n",
    "- Practice Scales for scale testing\n",
    "- Practice audition piece for audition"
   ]
  },
  {
   "cell_type": "markdown",
   "metadata": {},
   "source": [
    "### AP Calc AB\n",
    "\n",
    "- Pages HW Problems (A8)"
   ]
  },
  {
   "cell_type": "markdown",
   "metadata": {},
   "source": [
    "### AP Chem\n",
    "\n",
    "- Storyboard for lab on Monday\n",
    "- Finish all notes packets"
   ]
  },
  {
   "cell_type": "markdown",
   "metadata": {},
   "source": [
    "### APCSP\n",
    "\n",
    "- Finish all work for week 1"
   ]
  }
 ],
 "metadata": {
  "language_info": {
   "name": "python"
  },
  "orig_nbformat": 4
 },
 "nbformat": 4,
 "nbformat_minor": 2
}
