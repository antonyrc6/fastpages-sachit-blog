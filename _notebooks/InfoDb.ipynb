{
 "cells": [
  {
   "cell_type": "markdown",
   "metadata": {},
   "source": [
    "# Dictionaries in Python"
   ]
  },
  {
   "cell_type": "markdown",
   "metadata": {},
   "source": [
    "### Appending dictionary to a list, printing dictionary in the list, adding new items to dictionary, and reversing order of items in dictionary:"
   ]
  },
  {
   "cell_type": "code",
   "execution_count": 38,
   "metadata": {},
   "outputs": [
    {
     "name": "stdout",
     "output_type": "stream",
     "text": [
      "{'FirstName': 'Sachit', 'LastName': 'Prasad', 'DOB': 'October 3', 'Residence': 'San Diego', 'Email': 'sachitp17831@stu.powayusd.com', 'Owns_Cars': 'no cars owned', 'Favorite_Color': 'red'}\n",
      "{'FirstName': 'Sachit', 'LastName': 'Prasad', 'DOB': 'October 3', 'Residence': 'San Diego', 'Email': 'sachitp17831@stu.powayusd.com', 'Owns_Cars': 'no cars owned', 'Favorite_Color': 'red', 'Hobby': 'Origami', 'Instrument': 'flute'}\n",
      "{'Instrument': 'flute', 'Hobby': 'Origami', 'Favorite_Color': 'red', 'Owns_Cars': 'no cars owned', 'Email': 'sachitp17831@stu.powayusd.com', 'Residence': 'San Diego', 'DOB': 'October 3', 'LastName': 'Prasad', 'FirstName': 'Sachit'}\n"
     ]
    }
   ],
   "source": [
    "InfoDb = []\n",
    "Dictionary = ({\n",
    "    \"FirstName\": \"Sachit\",\n",
    "    \"LastName\": \"Prasad\",\n",
    "    \"DOB\": \"October 3\",\n",
    "    \"Residence\": \"San Diego\",\n",
    "    \"Email\": \"sachitp17831@stu.powayusd.com\",\n",
    "    \"Owns_Cars\": \"no cars owned\",\n",
    "    \"Favorite_Color\": \"red\",\n",
    "})\n",
    "\n",
    "InfoDb.append(Dictionary)\n",
    "\n",
    "for i in InfoDb:\n",
    "    print(i)\n",
    "\n",
    "#Following code adds new items to the dictionary and prints all items\n",
    "\n",
    "new = ({\"Hobby\": \"Origami\", \"Instrument\": \"flute\"})\n",
    "Dictionary.update(new)\n",
    "print(Dictionary)\n",
    "\n",
    "#Output data in reverse order:\n",
    "\n",
    "Dictionary = dict(reversed(Dictionary.items()))\n",
    "print(Dictionary)"
   ]
  },
  {
   "cell_type": "markdown",
   "metadata": {},
   "source": [
    "### Quiz Using Dictionary:"
   ]
  },
  {
   "cell_type": "code",
   "execution_count": 3,
   "metadata": {},
   "outputs": [
    {
     "name": "stdout",
     "output_type": "stream",
     "text": [
      "Your answer is correct.\n",
      "Your answer is correct.\n",
      "Your answer is incorrect.\n",
      "You got 2 questions correct!\n"
     ]
    }
   ],
   "source": [
    "dictionary = ({\n",
    "\t\"What color is a lemon? \": \"yellow\",\n",
    "\t\"What color is a pomegranate? \": \"red\",\n",
    "\t\"What color is an orange? \": \"orange\",\n",
    "})\n",
    "\n",
    "score = 0\n",
    "\n",
    "for key,value in dictionary.items():\n",
    "  questions = input(f\"{key}\")\n",
    "  if questions == value:\n",
    "    print(\"Your answer is correct.\")\n",
    "    score += 1\n",
    "  else:\n",
    "    print(\"Your answer is incorrect.\")\n",
    "print(\"You got \" + str(score) + \" questions correct!\")"
   ]
  }
 ],
 "metadata": {
  "kernelspec": {
   "display_name": "Python 3.8.9 64-bit",
   "language": "python",
   "name": "python3"
  },
  "language_info": {
   "codemirror_mode": {
    "name": "ipython",
    "version": 3
   },
   "file_extension": ".py",
   "mimetype": "text/x-python",
   "name": "python",
   "nbconvert_exporter": "python",
   "pygments_lexer": "ipython3",
   "version": "3.9.6"
  },
  "orig_nbformat": 4,
  "vscode": {
   "interpreter": {
    "hash": "31f2aee4e71d21fbe5cf8b01ff0e069b9275f58929596ceb00d14d90e3e16cd6"
   }
  }
 },
 "nbformat": 4,
 "nbformat_minor": 2
}
