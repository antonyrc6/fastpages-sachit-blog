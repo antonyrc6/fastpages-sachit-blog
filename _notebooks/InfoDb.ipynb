{
 "cells": [
  {
   "cell_type": "code",
   "execution_count": 1,
   "metadata": {},
   "outputs": [
    {
     "name": "stdout",
     "output_type": "stream",
     "text": [
      "{'FirstName': 'Sachit', 'LastName': 'Prasad', 'DOB': 'October 3', 'Residence': 'San Diego', 'Email': 'sachitp17831@stu.powayusd.com', 'Owns_Cars': ['no cars owned']}\n"
     ]
    }
   ],
   "source": [
    "InfoDb = []\n",
    "\n",
    "InfoDb.append({\n",
    "    \"FirstName\": \"Sachit\",\n",
    "    \"LastName\": \"Prasad\",\n",
    "    \"DOB\": \"October 3\",\n",
    "    \"Residence\": \"San Diego\",\n",
    "    \"Email\": \"sachitp17831@stu.powayusd.com\",\n",
    "    \"Owns_Cars\": [\"no cars owned\"]\n",
    "})\n",
    "\n",
    "for i in InfoDb:\n",
    "    print(i)\n",
    "\n",
    "#Output data in reverse order:\n",
    "\n"
   ]
  }
 ],
 "metadata": {
  "kernelspec": {
   "display_name": "Python 3.8.9 64-bit",
   "language": "python",
   "name": "python3"
  },
  "language_info": {
   "codemirror_mode": {
    "name": "ipython",
    "version": 3
   },
   "file_extension": ".py",
   "mimetype": "text/x-python",
   "name": "python",
   "nbconvert_exporter": "python",
   "pygments_lexer": "ipython3",
   "version": "3.8.9"
  },
  "orig_nbformat": 4,
  "vscode": {
   "interpreter": {
    "hash": "31f2aee4e71d21fbe5cf8b01ff0e069b9275f58929596ceb00d14d90e3e16cd6"
   }
  }
 },
 "nbformat": 4,
 "nbformat_minor": 2
}
