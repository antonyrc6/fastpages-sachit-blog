{
 "cells": [
  {
   "cell_type": "markdown",
   "metadata": {},
   "source": [
    "# Python Quiz"
   ]
  },
  {
   "cell_type": "code",
   "execution_count": 2,
   "metadata": {},
   "outputs": [
    {
     "name": "stdout",
     "output_type": "stream",
     "text": [
      "Hello, you will be asked 4 questions.\n"
     ]
    }
   ],
   "source": [
    "import getpass, sys\n",
    "\n",
    "def question_with_response(prompt):\n",
    "    print(\"Question: \" + prompt)\n",
    "    msg = input()\n",
    "    return msg\n",
    "\n",
    "questions = 4\n",
    "correct = 0\n",
    "\n",
    "print(\"Hello, you will be asked \" + str(questions) + \" questions.\")\n",
    "ready = input(\"Are you ready to take the test?\")\n",
    "\n",
    "rsp = question_with_response(\"What is the fastest land animal?\")\n",
    "if rsp == \"cheetah\":\n",
    "    print(rsp + \" is correct!\")\n",
    "    correct += 1\n",
    "else:\n",
    "    print(\"Your answer is incorrect!\")\n",
    "\n",
    "rsp = question_with_response(\"What is the tallest animal in the world?\")\n",
    "if rsp == \"giraffe\":\n",
    "    print(rsp + \" is correct!\")\n",
    "    correct += 1\n",
    "else:\n",
    "    print(\"Your answer is incorrect\")\n",
    "\n",
    "rsp = question_with_response(\"What is the most common animal to have as a pet in the US.\")\n",
    "if rsp == \"dog\" or rsp == \"dogs\":\n",
    "    print(rsp + \" is correct!\")\n",
    "    correct += 1\n",
    "else:\n",
    "    print(\"Your answer is incorrect!\")\n",
    "\n",
    "rsp = question_with_response(\"What is the largest land animal\")\n",
    "if rsp == \"elephant\":\n",
    "    print(rsp + \" is correct!\")\n",
    "    correct += 1\n",
    "else:\n",
    "  print(\"Your answer is incorrect!\")\n",
    "  \n",
    "print(\"You scored \" + str(correct) + \"/\" + str(questions))"
   ]
  }
 ],
 "metadata": {
  "kernelspec": {
   "display_name": "Python 3.8.9 64-bit",
   "language": "python",
   "name": "python3"
  },
  "language_info": {
   "codemirror_mode": {
    "name": "ipython",
    "version": 3
   },
   "file_extension": ".py",
   "mimetype": "text/x-python",
   "name": "python",
   "nbconvert_exporter": "python",
   "pygments_lexer": "ipython3",
   "version": "3.8.9"
  },
  "orig_nbformat": 4,
  "vscode": {
   "interpreter": {
    "hash": "31f2aee4e71d21fbe5cf8b01ff0e069b9275f58929596ceb00d14d90e3e16cd6"
   }
  }
 },
 "nbformat": 4,
 "nbformat_minor": 2
}
