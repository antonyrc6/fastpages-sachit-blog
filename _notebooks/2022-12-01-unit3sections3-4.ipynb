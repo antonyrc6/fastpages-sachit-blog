{
 "cells": [
  {
   "cell_type": "markdown",
   "metadata": {},
   "source": [
    "# Unit 3 Sections 3-4 Hacks\n",
    "- title: Homework Assignment for 3.3-4\n",
    "- tags: [hw]\n",
    "- toc: true\n",
    "- comments: true"
   ]
  },
  {
   "cell_type": "markdown",
   "metadata": {},
   "source": [
    "## 3.3 Video 1 Hacks\n",
    "\n",
    "Show two examples and label which one is sequence, selection, iteration"
   ]
  },
  {
   "cell_type": "code",
   "execution_count": 6,
   "metadata": {},
   "outputs": [
    {
     "name": "stdout",
     "output_type": "stream",
     "text": [
      "[0, 2, 4, 6, 8, 10]\n"
     ]
    }
   ],
   "source": [
    "#Even Example\n",
    "numbers = [0,1,2,3,4,5,6,7,8,9,10]\n",
    "evens = []\n",
    "\n",
    "for i in numbers: #this for loop is iteration because the loop goes through all the numbers in the list \"numbers\"\n",
    "    if (numbers[i] % 2 == 0): #this if statement represents selection because only the even numbers are appended to the even list.\n",
    "        evens.append(numbers[i])\n",
    "\n",
    "print(evens)\n",
    "\n",
    "#All of the code together is sequencing because sequencing is when the code flows and works together in a certain order."
   ]
  },
  {
   "cell_type": "code",
   "execution_count": 2,
   "metadata": {},
   "outputs": [
    {
     "name": "stdout",
     "output_type": "stream",
     "text": [
      "[1, 3, 5, 7, 9]\n"
     ]
    }
   ],
   "source": [
    "#Odd Example\n",
    "numbers = [0,1,2,3,4,5,6,7,8,9,10]\n",
    "odds = []\n",
    "\n",
    "for i in numbers: #this for loop is iteration because the loop goes through all the numbers in the list \"numbers\"\n",
    "    if (numbers[i] % 2 == 1): #this if statement represents selection because only the odd numbers are appended to the odd list.\n",
    "        odds.append(numbers[i])\n",
    "\n",
    "print(odds)\n",
    "\n",
    "#All of the code together is sequencing because sequencing is when the code flows and works together in a certain order."
   ]
  },
  {
   "cell_type": "markdown",
   "metadata": {},
   "source": [
    "### Answers 1\n",
    "All the steps combined are sequencing\n",
    "\n",
    "The step \"for i in numbers:\" is iteration because they go through all the numbers.\n",
    "\n",
    "\"if (numbers[i] % 2 == 0)\" is selection because they sort each number to find the even ones."
   ]
  },
  {
   "cell_type": "code",
   "execution_count": 7,
   "metadata": {},
   "outputs": [
    {
     "name": "stdout",
     "output_type": "stream",
     "text": [
      "*\n",
      "**\n",
      "***\n",
      "****\n",
      "*****\n"
     ]
    }
   ],
   "source": [
    "i = 1\n",
    "starString = \"*\"\n",
    "while i <= 5:\n",
    "  j = 1\n",
    "  while j <= i:\n",
    "    print (\"*\", end= \"\")\n",
    "    j += 1\n",
    "  print ()\n",
    "  i += 1"
   ]
  },
  {
   "cell_type": "markdown",
   "metadata": {},
   "source": [
    "### Answers 2\n",
    "\n",
    "All the steps are a sequence\n",
    "\n",
    "\"While i <= 5:\" is iteration because they repeat until i reaches 5\n",
    "\n",
    "\"While j <= i:\" is selection because this is where they decide what j is"
   ]
  },
  {
   "cell_type": "markdown",
   "metadata": {},
   "source": [
    "\n",
    "\n"
   ]
  },
  {
   "cell_type": "markdown",
   "metadata": {},
   "source": [
    "## 3.3 Video 2 Hacks\n",
    "### Practice Problems \n",
    "1. given the following code segment below:\n",
    "\n",
    "a ⟵ 7\n",
    "\n",
    "b ⟵ 1\n",
    "\n",
    "c ⟵ 3\n",
    "\n",
    "d ⟵ 4\n",
    "\n",
    "a ⟵ b\n",
    "\n",
    "b ⟵ c + d\n",
    "\n",
    "d ⟵ b \n",
    "\n",
    "find the value for a, b, c, d\n",
    "\n",
    "☆ My answer: First, a is set to the value of b which is 1. Next, b is set to the value of c + d = 3 + 4 = 7. Lastly, d is set to the value of b which changed to 7. With this, we know that a = 1, b = 7, c = 3, d = 7.\n",
    "\n",
    "<details closed>\n",
    "    <summary>Click for the answer!</summary>\n",
    "       a = 1, b = 7, c = 3, d = 7\n",
    "    </details>\n",
    "\n",
    "2. consider the following code segment:\n",
    "\n",
    "hot ⟵ true\n",
    "\n",
    "cold ⟵ false\n",
    "\n",
    "cold ⟵ hot \n",
    "\n",
    "hot ⟵ cold\n",
    "\n",
    "what are the values of hot and cold after executing the code segment? \n",
    "1. the value of hot is true, the value of cold is true \n",
    "2. the value of hot is false, the value of cold is true\n",
    "3. the value of hot is true, the value of cold is false\n",
    "4. the value of hot is false, the value of cold is false \n",
    "\n",
    "☆ My answer: First, cold is set to hot with is true. Next, hot is set to cold which has a value of true. This means that Both variables will have values of true. This means the correct answer is #1.\n",
    "\n",
    "<details closed>\n",
    "    <summary>Click for the answer!</summary>\n",
    "        1. the value of hot is true, the value of cold is true \n",
    "    </details>\n",
    "\n",
    "3. Make TWO of your own code segments that contain at least 5 defined variables, then provide the answer and EXPLAIN why your answer is correct. \n",
    "\n",
    "### Making My Own Code Segements:\n",
    "\n",
    "**First Code Segment:**\n",
    "\n",
    "num1 ⟵ 12\n",
    "\n",
    "num2 ⟵ 2\n",
    "\n",
    "num3 ⟵ 14\n",
    "\n",
    "num4 ⟵ 0\n",
    "\n",
    "num3 ⟵ num1\n",
    "\n",
    "num4 ⟵ num1 + num2\n",
    "\n",
    "DISPLAY(num1)\n",
    "\n",
    "DISPLAY(num2)\n",
    "\n",
    "DISPLAY(num3)\n",
    "\n",
    "DISPLAY(num4)\n",
    "\n",
    "**What is displayed by this code segment?**\n",
    "\n",
    "☆ My answer: First, num3 is set to the value of num1 which is 12. Next, num4 is set to the sum of num1 + num2 which is 14. Therefore, this code segment should display: 12 2 12 14.\n",
    "\n",
    "**Second Code Segment:**\n",
    "\n",
    "first ⟵ true\n",
    "\n",
    "second ⟵ false\n",
    "\n",
    "third ⟵ true\n",
    "\n",
    "second ⟵ third\n",
    "\n",
    "third ⟵ first\n",
    "\n",
    "\n",
    "DISPLAY(first)\n",
    "\n",
    "DISPLAY(second)\n",
    "\n",
    "DISPLAY(third)\n",
    "\n",
    "**What is displayed by this code segment?**\n",
    "\n",
    "☆ My answer: First, second is set to the value of third which is true. Next, third is set to the value of first which is true. This means that the code segment should display: true true true."
   ]
  },
  {
   "cell_type": "markdown",
   "metadata": {},
   "source": [
    "4. Sequencing"
   ]
  },
  {
   "cell_type": "code",
   "execution_count": null,
   "metadata": {},
   "outputs": [],
   "source": [
    "num1 = 3\n",
    "num2 = 1\n",
    "num3 = 5\n",
    "num1 = num2 + num3      \n",
    "num2 = num1 + num3      # num2 is now the new num1 + num3"
   ]
  },
  {
   "cell_type": "markdown",
   "metadata": {},
   "source": [
    "What is the value of num1 and num2?\n",
    "\n",
    "☆ My answer: The value of num1 is **6** because it's the sum of num2 and num3 which is 1 + 5. The value of num2 is **11** because it's the sum of num1 and num3 which is 6 + 5.\n",
    "\n",
    "<details closed>\n",
    "    <summary>Click for the answer!</summary>\n",
    "        num1 = 6, num2 = 11\n",
    "    </details>"
   ]
  },
  {
   "cell_type": "markdown",
   "metadata": {},
   "source": [
    "## 3.4 Video 1 Hacks\n",
    "\n",
    "### String Homework\n",
    "---------------------------------------------------------------\n",
    "\n",
    "\n",
    "- Test 1\n",
    "\n",
    "    firstName <- \"Bob\"\n",
    "    lastName <- \"Smith\"\n",
    "    var <- substring(firstName, 1, 1)\n",
    "    name <- concat(lastName, var)\n",
    "    email <- concat(name, \"@gmail.com\")\n",
    "    DISPLAY(email)\n",
    "\n",
    "- What would the result be?\n",
    "\n",
    "☆ My answer: The result would be **\"SmithB@gmail.com\"**.\n",
    "\n",
    " Hint:\n",
    " var = \"B\"\n",
    " name = \"SmithB\"\n",
    "\n",
    "---------------------------------------------------------------\n",
    "- Test 2\n",
    "\n",
    "    word1 <- \"computer\"\n",
    "    word2 <- \"textbooks\"\n",
    "    length1 <- len(word1)/2\n",
    "    length2 <- len(word2)/3\n",
    "    first <- substring(word1, 2, len1)\n",
    "    second <- substring(word2, len2+3, len2)\n",
    "    newWord <- concat(first, second)\n",
    "    DISPLAY(newWord)\n",
    "\n",
    "☆ My answer: This code segment will display **\"ompuook\"**. (\"ompu\" from \"computer\" and \"ook\" from \"textbooks\")\n",
    "\n",
    "---------------------------------------------------------------\n",
    "\n",
    "#### Answers\n",
    " Test 1\n",
    "- Result: \"SmithB@gmail.com\"\n",
    "\n",
    " Test 2\n",
    "- Result: \"ompuook\"\n",
    "\n",
    "\n"
   ]
  }
 ],
 "metadata": {
  "kernelspec": {
   "display_name": "Python 3.9.6 64-bit",
   "language": "python",
   "name": "python3"
  },
  "language_info": {
   "codemirror_mode": {
    "name": "ipython",
    "version": 3
   },
   "file_extension": ".py",
   "mimetype": "text/x-python",
   "name": "python",
   "nbconvert_exporter": "python",
   "pygments_lexer": "ipython3",
   "version": "3.9.6"
  },
  "orig_nbformat": 4,
  "vscode": {
   "interpreter": {
    "hash": "31f2aee4e71d21fbe5cf8b01ff0e069b9275f58929596ceb00d14d90e3e16cd6"
   }
  }
 },
 "nbformat": 4,
 "nbformat_minor": 2
}
