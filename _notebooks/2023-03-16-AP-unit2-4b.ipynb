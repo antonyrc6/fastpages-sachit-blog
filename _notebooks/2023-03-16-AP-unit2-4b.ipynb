{
 "cells": [
  {
   "attachments": {},
   "cell_type": "markdown",
   "metadata": {},
   "source": [
    "#  Unit 2.4b Using Programs with Data, SQL\n",
    "> Using Programs with Data is focused on SQL and database actions.  Part B focuses on learning SQL commands, connections, and curses using an Imperative programming style,\n",
    "- toc: true\n",
    "- image: /images/python.png\n",
    "- categories: []\n",
    "- type: ap\n",
    "- week: 26"
   ]
  },
  {
   "attachments": {},
   "cell_type": "markdown",
   "metadata": {},
   "source": [
    "# Database Programming is Program with Data\n",
    "> Each Tri 2 Final Project should be an example of a Program with Data. \n",
    "\n",
    ">  Prepare to use SQLite in common Imperative Technique\n",
    "- Explore [SQLite Connect object](https://www.tutorialspoint.com/python_data_access/python_sqlite_establishing_connection.htm) to establish database connection\n",
    "- Explore [SQLite Cursor Object](https://www.tutorialspoint.com/python_data_access/python_sqlite_cursor_object.htm) to fetch data from a table within a database\n"
   ]
  },
  {
   "attachments": {},
   "cell_type": "markdown",
   "metadata": {},
   "source": [
    "## Schema of Users table in Sqlite.db\n",
    "> Uses PRAGMA statement to read schema.\n",
    "\n",
    "Describe Schema, here is resource [Resource](https://www.sqlite.org/index.html)\n",
    "- What is a database schema?: A database schema is the organization of data as a blueprint of how the database is constructed.\n",
    "- What is the purpose of identity Column in SQL database?: The columns in a database contain the attributes of the class that all the entries in the database have.\n",
    "- What is the purpose of a primary key in SQL database?: A primary key is something that can be used to identify and object or entry in the database. In our case, the uid is unique and can therefore be used to identify a specific user in the database.\n",
    "- What are the Data Types in SQL table?: Some of the possible data types in an SQL table include strings, integers, floats, and images."
   ]
  },
  {
   "cell_type": "code",
   "execution_count": 26,
   "metadata": {},
   "outputs": [
    {
     "name": "stdout",
     "output_type": "stream",
     "text": [
      "(0, 'id', 'INTEGER', 1, None, 1)\n",
      "(1, '_name', 'VARCHAR(255)', 1, None, 0)\n",
      "(2, '_uid', 'VARCHAR(255)', 1, None, 0)\n",
      "(3, '_password', 'VARCHAR(255)', 1, None, 0)\n",
      "(4, '_dob', 'DATE', 0, None, 0)\n"
     ]
    }
   ],
   "source": [
    "import sqlite3\n",
    "\n",
    "database = 'instance/sqlite.db' # this is location of database\n",
    "\n",
    "def schema():\n",
    "    \n",
    "    # Connect to the database file\n",
    "    conn = sqlite3.connect(database)\n",
    "\n",
    "    # Create a cursor object to execute SQL queries\n",
    "    cursor = conn.cursor()\n",
    "    \n",
    "    # Fetch results of Schema\n",
    "    results = cursor.execute(\"PRAGMA table_info('users')\").fetchall()\n",
    "\n",
    "    # Print the results\n",
    "    for row in results:\n",
    "        print(row)\n",
    "\n",
    "    # Close the database connection\n",
    "    conn.close()\n",
    "    \n",
    "schema()\n"
   ]
  },
  {
   "attachments": {},
   "cell_type": "markdown",
   "metadata": {},
   "source": [
    "## Reading Users table in Sqlite.db\n",
    "> Uses SQL SELECT statement to read data\n",
    "\n",
    "- What is a connection object? After you google it, what do you think it does? A connection object allows the programmer to connect with the database and interact with it. This way the programmer can search for things, display things, and do so much more with the database.\n",
    "- Same for cursor object?: After connecting to the sqlite database, the cursor object allows us to search through the database and fetch for different parts of it.\n",
    "- Look at conn object and cursor object in VSCode debugger.  What attributes are in the object?: After using the VSCode debugger, I found that the attributes in the conn object are special variables, function variables, and class variables. Some of the attributes of the cursor object are special variables, function variables, connection, and description.\n",
    "- Is \"results\" an object? How do you know?: Yes, results is an object listed under the cursor object. It's an object because it contains data and attributes (like the conn and cursor objects) of each user."
   ]
  },
  {
   "cell_type": "code",
   "execution_count": 27,
   "metadata": {},
   "outputs": [
    {
     "name": "stdout",
     "output_type": "stream",
     "text": [
      "(1, 'Thomas Edison', 'toby', 'sha256$7jEE87mtQgvSbeuM$abb57b85c00ce0521cfdc5eb608c5fb81261870d13c385aef7ec6568e4448c84', '1847-02-11')\n",
      "(2, 'Nikola Tesla', 'niko', 'sha256$4e7B1Lpff76p9BRQ$f1818bd9f94b62d7c6d6e2f3426a0234cd4f6e8b27b0ee8a86d8edcac6cf1ece', '2023-03-17')\n",
      "(3, 'Alexander Graham Bell', 'lex', 'sha256$V9ZT426BhF6ghSUQ$c538c8d51513e41b1f1ede1d99d922004d7e56a77695a0f7c9cce9ec2ada0efb', '2023-03-17')\n",
      "(4, 'Eli Whitney', 'whit', 'sha256$On8knJWX1jTqCukb$4efbba10d347afb5498a1b747280c3e6a5bdeec98171b460441389deb48399aa', '2023-03-17')\n",
      "(5, 'prasad', 'sachitcool1', 'sha256$0uPDaRZ6tYyJHQeS$4a4e2939f2d7c20c6385fec2805b4891cf0b8d5764add9612240fd9e766eb698', '1920-10-21')\n"
     ]
    }
   ],
   "source": [
    "import sqlite3\n",
    "\n",
    "def read():\n",
    "    # Connect to the database file\n",
    "    conn = sqlite3.connect(database)\n",
    "\n",
    "    # Create a cursor object to execute SQL queries\n",
    "    cursor = conn.cursor()\n",
    "    \n",
    "    # Execute a SELECT statement to retrieve data from a table\n",
    "    results = cursor.execute('SELECT * FROM users').fetchall()\n",
    "\n",
    "    # Print the results\n",
    "    if len(results) == 0:\n",
    "        print(\"Table is empty\")\n",
    "    else:\n",
    "        for row in results:\n",
    "            print(row)\n",
    "\n",
    "    # Close the cursor and connection objects\n",
    "    cursor.close()\n",
    "    conn.close()\n",
    "    \n",
    "read()\n"
   ]
  },
  {
   "attachments": {},
   "cell_type": "markdown",
   "metadata": {},
   "source": [
    "## Create a new User in table in Sqlite.db\n",
    "> Uses SQL INSERT to add row\n",
    "-  Compare create() in both SQL lessons. What is better or worse in the two implementations? In both versions, the create function would gather inputs for each attribute of the object from the user and add it to the database a new entry. However, the method in which the program does this is different in the 2 lessons. In the 2.4a lesson, the program used user.create() to create a user, while the 2.4b lesson used cursor.execute and conn.commit() to create a user. The code in 2.4b looks simpler and more compact than the code in 2.4a.\n",
    "-  Explain purpose of SQL INSERT. Is this the same as User __init__?: SQL INSERT takes the values inputted by the user for name, uid, password, and dob and inserts them into a list which represents an entry in the database. It is used to insert these attributes into the database as a new entry."
   ]
  },
  {
   "cell_type": "code",
   "execution_count": 28,
   "metadata": {},
   "outputs": [
    {
     "name": "stdout",
     "output_type": "stream",
     "text": [
      "A new user record sachitprasad123 has been created\n"
     ]
    }
   ],
   "source": [
    "import sqlite3\n",
    "\n",
    "def create():\n",
    "    name = input(\"Enter your name:\")\n",
    "    uid = input(\"Enter your user id:\")\n",
    "    password = input(\"Enter your password\")\n",
    "    dob = input(\"Enter your date of birth 'YYYY-MM-DD'\")\n",
    "    \n",
    "    # Connect to the database file\n",
    "    conn = sqlite3.connect(database)\n",
    "\n",
    "    # Create a cursor object to execute SQL commands\n",
    "    cursor = conn.cursor()\n",
    "\n",
    "    try:\n",
    "        # Execute an SQL command to insert data into a table\n",
    "        cursor.execute(\"INSERT INTO users (_name, _uid, _password, _dob) VALUES (?, ?, ?, ?)\", (name, uid, password, dob))\n",
    "        \n",
    "        # Commit the changes to the database\n",
    "        conn.commit()\n",
    "        print(f\"A new user record {uid} has been created\")\n",
    "                \n",
    "    except sqlite3.Error as error:\n",
    "        print(\"Error while executing the INSERT:\", error)\n",
    "\n",
    "\n",
    "    # Close the cursor and connection objects\n",
    "    cursor.close()\n",
    "    conn.close()\n",
    "    \n",
    "create()"
   ]
  },
  {
   "attachments": {},
   "cell_type": "markdown",
   "metadata": {},
   "source": [
    "## Updating a User in table in Sqlite.db\n",
    "> Uses SQL UPDATE to modify password\n",
    "- What does the hacked part do?: If the password inputted by the user is shorter than 2 characters, the password is changed to \"gothackednewpassword123\" as it's a longer and therefore more secure password. The message hacked will also displayed showing that the user selected by the user wasn't secure, so they got hacked.\n",
    "- Explain try/except, when would except occur?: Try except blocks are generally used to check for errors. If the try block doesn't work as intended, the except block runs which usually states that an error occurred with the process being run in the try block.\n",
    "- What code seems to be repeated in each of these examples to point, why is it repeated?: In all of these examples, the connect and cursor objects are used to allow us to connect and interact with the database. Without these, we wouldn't be able to access and use use the CRUD operations on the database to edit it. This is why this process is repeated whenever a change (create, update, delete) is needed to be made to the database."
   ]
  },
  {
   "cell_type": "code",
   "execution_count": 29,
   "metadata": {},
   "outputs": [
    {
     "name": "stdout",
     "output_type": "stream",
     "text": [
      "No uid  was not found in the table\n"
     ]
    }
   ],
   "source": [
    "import sqlite3\n",
    "\n",
    "def update():\n",
    "    uid = input(\"Enter user id to update\")\n",
    "    password = input(\"Enter updated password\")\n",
    "    if len(password) < 2:\n",
    "        message = \"hacked\"\n",
    "        password = 'gothackednewpassword123'\n",
    "    else:\n",
    "        message = \"successfully updated\"\n",
    "\n",
    "    # Connect to the database file\n",
    "    conn = sqlite3.connect(database)\n",
    "\n",
    "    # Create a cursor object to execute SQL commands\n",
    "    cursor = conn.cursor()\n",
    "\n",
    "    try:\n",
    "        # Execute an SQL command to update data in a table\n",
    "        cursor.execute(\"UPDATE users SET _password = ? WHERE _uid = ?\", (password, uid))\n",
    "        if cursor.rowcount == 0:\n",
    "            # The uid was not found in the table\n",
    "            print(f\"No uid {uid} was not found in the table\")\n",
    "        else:\n",
    "            print(f\"The row with user id {uid} the password has been {message}\")\n",
    "            conn.commit()\n",
    "    except sqlite3.Error as error:\n",
    "        print(\"Error while executing the UPDATE:\", error)\n",
    "        \n",
    "    \n",
    "    # Close the cursor and connection objects\n",
    "    cursor.close()\n",
    "    conn.close()\n",
    "    \n",
    "update()\n"
   ]
  },
  {
   "attachments": {},
   "cell_type": "markdown",
   "metadata": {},
   "source": [
    "## Delete a User in table in Sqlite.db\n",
    "> Uses a delete function to remove a user based on a user input of the id.\n",
    "- Is DELETE a dangerous operation? Why?: Delete is a dangerous operation because once an entry is deleted, it can't be brought back and is lost. This is why it's important to make sure you are deleting the correct entry whenever you use this CRUD operation.\n",
    "- In the print statements, what is the \"f\" and what does {uid} do?: The \"f\" is used so we can include variables that aren't strings like \"{uid}\" so we can print them along side strings. The {uid} displays the uid for an entry in the table. Curly brackets are used to show the value of uid rather than the word itself."
   ]
  },
  {
   "cell_type": "code",
   "execution_count": 30,
   "metadata": {},
   "outputs": [
    {
     "name": "stdout",
     "output_type": "stream",
     "text": [
      "No uid  was not found in the table\n"
     ]
    }
   ],
   "source": [
    "import sqlite3\n",
    "\n",
    "def delete():\n",
    "    uid = input(\"Enter user id to delete\")\n",
    "\n",
    "    # Connect to the database file\n",
    "    conn = sqlite3.connect(database)\n",
    "\n",
    "    # Create a cursor object to execute SQL commands\n",
    "    cursor = conn.cursor()\n",
    "    \n",
    "    try:\n",
    "        cursor.execute(\"DELETE FROM users WHERE _uid = ?\", (uid,))\n",
    "        if cursor.rowcount == 0:\n",
    "            # The uid was not found in the table\n",
    "            print(f\"No uid {uid} was not found in the table\")\n",
    "        else:\n",
    "            # The uid was found in the table and the row was deleted\n",
    "            print(f\"The row with uid {uid} was successfully deleted\")\n",
    "        conn.commit()\n",
    "    except sqlite3.Error as error:\n",
    "        print(\"Error while executing the DELETE:\", error)\n",
    "        \n",
    "    # Close the cursor and connection objects\n",
    "    cursor.close()\n",
    "    conn.close()\n",
    "    \n",
    "delete()"
   ]
  },
  {
   "attachments": {},
   "cell_type": "markdown",
   "metadata": {},
   "source": [
    "# Menu Interface to CRUD operations\n",
    "> CRUD and Schema interactions from one location by running menu. Observe input at the top of VSCode, observe output underneath code cell.\n",
    "- Why does the menu repeat?: The menu repeats to allow the user to select a CRUD operation as many times as they wish until they feel they are satisfied.\n",
    "- Could you refactor this menu?  Make it work with a List?: This menu could be changed to work with a list by storing the different crud operations in a list rather than as in if and elif statements."
   ]
  },
  {
   "cell_type": "code",
   "execution_count": 31,
   "metadata": {},
   "outputs": [],
   "source": [
    "# Menu, to run other cells from one control point\n",
    "def menu():\n",
    "    operation = input(\"Enter: (C)reate (R)ead (U)pdate or (D)elete or (S)chema\")\n",
    "    if operation.lower() == 'c':\n",
    "        create()\n",
    "    elif operation.lower() == 'r':\n",
    "        read()\n",
    "    elif operation.lower() == 'u':\n",
    "        update()\n",
    "    elif operation.lower() == 'd':\n",
    "        delete()\n",
    "    elif operation.lower() == 's':\n",
    "        schema()\n",
    "    elif len(operation)==0: # Escape Key\n",
    "        return\n",
    "    else:\n",
    "        print(\"Please enter c, r, u, or d\") \n",
    "    menu() # recursion, repeat menu\n",
    "        \n",
    "try:\n",
    "    menu() # start menu\n",
    "except:\n",
    "    print(\"Perform Jupyter 'Run All' prior to starting menu\")\n"
   ]
  },
  {
   "attachments": {},
   "cell_type": "markdown",
   "metadata": {},
   "source": [
    "# Hacks\n",
    "- Add this Blog to you own Blogging site.  In the Blog add notes and observations on each code cell.\n",
    "- In this implementation, do you see procedural abstraction?:\n",
    "\n",
    "Yes, lots of procedural abstraction can be seen in this implementation. The CRUD functions (create, read, update, and delete) divide the program into parts and categorize it by what each part does. Additionally, the menu function basically combines all the functions into one function allowing you to do any CRUD function just by running one code segment. These elements also make it easier to read the program as all the code is in a specific function which is labeled with its purpose rather than a huge block of code where nothing is organized.\n",
    "\n",
    "- In 2.4a or 2.4b lecture\n",
    "    - Do you see data abstraction? Complement this with Debugging example.\n",
    "\n",
    "    Yes, data abstraction is present in both 2.4a and 2.4b as the code is condensed and its internal functions are hidden from the user. When the user wants to create, read, update, or delete from the database, the user simply needs to input a few things at most to get the desired result. In this way, the internal functions are hidden as the user doesn't know what is happening behind the scenes in the program. Also, the code is condensed as everything has a purpose and all the code is grouped well and put where it should be located.\n",
    "\n",
    "    - Use Imperative or OOP style to Create a new Table or do something that applies to your CPT project.\n",
    "    \n",
    "\n",
    "Reference... [sqlite documentation](https://www.sqlitetutorial.net/sqlite-python/creating-tables/)\n"
   ]
  },
  {
   "attachments": {},
   "cell_type": "markdown",
   "metadata": {},
   "source": [
    "# Debugging Screenshots Showing Understanding of Key Objects\n",
    "\n",
    "### Conn Object\n",
    "\n",
    "![Conn Object](images/debugConn.png)\n",
    "\n",
    "### Cursor Object\n",
    "\n",
    "![Cursor Object](images/debugCursor.png)"
   ]
  }
 ],
 "metadata": {
  "kernelspec": {
   "display_name": "base",
   "language": "python",
   "name": "python3"
  },
  "language_info": {
   "codemirror_mode": {
    "name": "ipython",
    "version": 3
   },
   "file_extension": ".py",
   "mimetype": "text/x-python",
   "name": "python",
   "nbconvert_exporter": "python",
   "pygments_lexer": "ipython3",
   "version": "3.9.12"
  },
  "orig_nbformat": 4,
  "vscode": {
   "interpreter": {
    "hash": "830f1a6af8a9ec840fb634abe2450035100d5f54189c29fcd0c0447a72f127a7"
   }
  }
 },
 "nbformat": 4,
 "nbformat_minor": 2
}
