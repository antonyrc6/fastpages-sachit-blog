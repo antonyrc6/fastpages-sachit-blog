{
 "cells": [
  {
   "cell_type": "markdown",
   "metadata": {},
   "source": [
    "# Project Related API\n",
    "\n",
    "> My team's project is a program that contains features similar to the clock app on iphone. Some of these features include an alarm, stopwatch, timezones for different locations (and current location), and most importantly, the current time. With this API I show how an API can be used for the timezone aspect of our group's program\n",
    "\n",
    "- layout: default\n",
    "- permalink: /firstapi/\n",
    "- toc: true \n",
    "- badges: true\n",
    "- comments: true"
   ]
  },
  {
   "cell_type": "code",
   "execution_count": 9,
   "metadata": {},
   "outputs": [
    {
     "name": "stdout",
     "output_type": "stream",
     "text": [
      "abbreviation: PDT\n",
      "client_ip: 35.162.152.183\n",
      "datetime: 2022-10-19T15:36:02.766901-07:00\n",
      "day_of_week: 3\n",
      "day_of_year: 292\n",
      "dst: true\n",
      "dst_from: 2022-03-13T10:00:00+00:00\n",
      "dst_offset: 3600\n",
      "dst_until: 2022-11-06T09:00:00+00:00\n",
      "raw_offset: -28800\n",
      "timezone: America/Los_Angeles\n",
      "unixtime: 1666218962\n",
      "utc_datetime: 2022-10-19T22:36:02.766901+00:00\n",
      "utc_offset: -07:00\n",
      "week_number: 42\n"
     ]
    }
   ],
   "source": [
    "# Begin Rapid API Code\n",
    "import requests\n",
    "\n",
    "url = \"https://world-time2.p.rapidapi.com/ip/75.6.164.211.txt\"\n",
    "\n",
    "headers = {\n",
    "\t\"X-RapidAPI-Key\": \"f56b20ef1cmsh82a127be1b400c6p1e21bcjsn093efcf02b8f\",\n",
    "\t\"X-RapidAPI-Host\": \"world-time2.p.rapidapi.com\"\n",
    "}\n",
    "\n",
    "response = requests.request(\"GET\", url, headers=headers)\n",
    "\n",
    "print(response.text)"
   ]
  }
 ],
 "metadata": {
  "kernelspec": {
   "display_name": "Python 3.9.6 64-bit",
   "language": "python",
   "name": "python3"
  },
  "language_info": {
   "codemirror_mode": {
    "name": "ipython",
    "version": 3
   },
   "file_extension": ".py",
   "mimetype": "text/x-python",
   "name": "python",
   "nbconvert_exporter": "python",
   "pygments_lexer": "ipython3",
   "version": "3.9.6"
  },
  "orig_nbformat": 4,
  "vscode": {
   "interpreter": {
    "hash": "31f2aee4e71d21fbe5cf8b01ff0e069b9275f58929596ceb00d14d90e3e16cd6"
   }
  }
 },
 "nbformat": 4,
 "nbformat_minor": 2
}
