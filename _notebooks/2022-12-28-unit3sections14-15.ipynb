{
 "cells": [
  {
   "attachments": {},
   "cell_type": "markdown",
   "metadata": {},
   "source": [
    "# Unit 3 Sections 14 - 15 Hacks \n",
    "> Yay!\n",
    "\n",
    " \n",
    "- toc: true \n",
    "- badges: true\n",
    "- comments: true"
   ]
  },
  {
   "attachments": {},
   "cell_type": "markdown",
   "metadata": {},
   "source": [
    "<strong>(1) Reflection</strong>\n",
    "\n",
    "Thorough notes or summary that reflects understanding of today's lesson.\n",
    "\n",
    "I learned many things from this lesson on sections 14-15. I learned about how libraries make coding more efficient because prewritten code can be used to simplify a program. I also learned about how procedures can be created so you don't have to use a series of commands to do something every time. For example, creating a procedure for moving a robot backwards and using it when necessary is much more efficient that using something like \"rotate right, rotate right, move forward\" every time you want to make the robot move backwards. I learned about how documentation gives an explanation of what a certain procedure does. Lastly, I learned about the random library and all of its functions that allows us to randomly generate values in different ways."
   ]
  },
  {
   "attachments": {},
   "cell_type": "markdown",
   "metadata": {},
   "source": [
    "<strong>Notes</strong>\n",
    "\n",
    "- Libraries contain prewritten code that can be used by programmers\n",
    "- Programmers use libraries to make their code more efficient and easier to follow\n",
    "- Documentation allows for programmers to understand what each procedure or function does\n",
    "- An API is a way for computer programs to communicate with each other and access information\n",
    "- The random library is an example of a library that allows you to use different functions that allow you to generate random values\n",
    "- Examples of functions present in the random library:\n",
    "    - random.randint(a,b): chooses a random integer between a and b (inclusive) \n",
    "    - random.choice(list): chooses a random element from a list \n",
    "    - random.shuffle(list): randomly rearranges the elements in a list\n",
    "    - random.randrange(start, stop, step): similar to random.randint with the minimum and maximum values, but random.randrange needs a \"step\" parameter which takes in the increment by which the possible values increases by (default increment value of 1)"
   ]
  },
  {
   "attachments": {},
   "cell_type": "markdown",
   "metadata": {},
   "source": [
    "<strong>(2) Multiple Choice</strong>"
   ]
  },
  {
   "attachments": {},
   "cell_type": "markdown",
   "metadata": {},
   "source": [
    "1. What does the random(a,b) function generate? \n",
    "\n",
    "A. A random integer from a to be exclusive\n",
    "\n",
    "B. A random integer from a to b inclusive. \n",
    "\n",
    "C. A random word from variable a to variable b exclusive.\n",
    "\n",
    "D. A random word from variable a to variable b inclusive.\n",
    "\n",
    "**☆ My answer:** The answer is choice <mark>B</mark> because this function will randomly generate an integer from a to b (including the values a and b).\n",
    "\n",
    "2. What is x, y, and z in random.randrange(x, y, z)?\n",
    "\n",
    "A. x = start, y = stop, z = step\n",
    "\n",
    "B. x = start, y = step, z = stop\n",
    "\n",
    "C. x = stop, y = start, z = step \n",
    "\n",
    "D. x = step, y = start, z = stop\n",
    "\n",
    "**☆ My answer:** The correct answer is choice <mark>A</mark>. This is because x is the starting or minimum value, y is the stopping or maximum value, and z is the step or value that the possible integers increment by.\n",
    "\n",
    "3. Which of the following is NOT part of the random library?\n",
    "\n",
    "A. random.item\n",
    "\n",
    "B. random.random\n",
    "\n",
    "C. random.shuffle\n",
    "\n",
    "D. random.randint\n",
    "\n",
    "**☆ My answer:** The answer to this question is <mark>A</mark> because all of the other functions exist. The function random.random generates a random float between 0 and 1. The function random.shuffle randomly rearranges the elements of the list it takes in. Lastly, random.randint generates a random integer.\n"
   ]
  },
  {
   "attachments": {},
   "cell_type": "markdown",
   "metadata": {},
   "source": [
    "<strong>(3) Short Answer Questions</strong>\n",
    "\n",
    "1. What is the advantage of using libraries? \n",
    "\n",
    "**☆ My answer:** Using libraries is advantageous because they contain prewritten code that can be used by programmers to make their code more efficient and easier to follow.\n",
    "\n",
    "2. Write a thorough documentation of the following code."
   ]
  },
  {
   "cell_type": "code",
   "execution_count": 53,
   "metadata": {},
   "outputs": [
    {
     "name": "stdout",
     "output_type": "stream",
     "text": [
      "Sachit is going to buy the meal today!\n"
     ]
    }
   ],
   "source": [
    "import random \n",
    "\n",
    "names_string = input(\"Give me everybody's names, seperated by a comma.\")\n",
    "names = names_string.split(\",\")\n",
    "\n",
    "num_items = len(names)\n",
    "\n",
    "random_choice = random.randint(0, num_items - 1)\n",
    "\n",
    "person_who_will_pay = names[random_choice]\n",
    "\n",
    "print(f\"{person_who_will_pay} is going to buy the meal today!\")"
   ]
  },
  {
   "attachments": {},
   "cell_type": "markdown",
   "metadata": {},
   "source": [
    "**Documentation:** The input() function prompts the user with a statement that the user needs to respond to. In this case, the user is prompted to enter everybody's names. The split() function will separate the names with commas. The len() function is used to find the length of the list of names. The random.randint() is used to generate a number from (representing index of the list) 0 to the length of the list minus 1. The person who will pay is selected using the randomly generated index of the list. The final print statement will print the person selected and states that they will buy the meal."
   ]
  },
  {
   "attachments": {},
   "cell_type": "markdown",
   "metadata": {},
   "source": [
    "<strong>(4) Coding Challenges!</strong>\n",
    "\n",
    "<mark>REQUIRED<mark>: Create programs in python to complete the two task\n",
    "\n",
    "1. Create a program to pick five random names from a list of at least 15 names"
   ]
  },
  {
   "cell_type": "code",
   "execution_count": 62,
   "metadata": {},
   "outputs": [
    {
     "name": "stdout",
     "output_type": "stream",
     "text": [
      "5 Random Names:\n",
      "Elijah\n",
      "Sophia\n",
      "Charlotte\n",
      "Jayden\n",
      "Abigail\n"
     ]
    }
   ],
   "source": [
    "import random\n",
    "\n",
    "names = [\"Alex\", \"Emma\", \"David\", \"Grace\", \"Henry\", \"Noah\", \"Benjamin\", \"Luna\", \"Christopher\", \"Jayden\", \"Lucas\", \"Elijah\", \"Sophia\", \"Abigail\", \"Charlotte\", \"Mason\"]\n",
    "selected = []\n",
    "checkDuplicates = [] # to make sure there aren't any duplicate names generated\n",
    "\n",
    "for i in range(5):\n",
    "    generated = random.choice(names)\n",
    "    while generated in checkDuplicates:\n",
    "        a = random.choice(names)\n",
    "    checkDuplicates.append(generated)\n",
    "    selected.append(generated)\n",
    "\n",
    "print(\"5 Random Names:\")\n",
    "for name in selected:\n",
    "    print(name)"
   ]
  },
  {
   "attachments": {},
   "cell_type": "markdown",
   "metadata": {},
   "source": [
    "2. Create a program to simulate a dice game where each player rolls two fair dice (6 sides); the player with the greater sum wins"
   ]
  },
  {
   "cell_type": "code",
   "execution_count": 69,
   "metadata": {},
   "outputs": [
    {
     "name": "stdout",
     "output_type": "stream",
     "text": [
      "Player 1 Sum: 7\n",
      "Player 2 Sum: 8\n",
      "Player 2 is the winner!\n"
     ]
    }
   ],
   "source": [
    "import random\n",
    "\n",
    "# players start with 0 points before rolling\n",
    "player1 = 0\n",
    "player2 = 0\n",
    "\n",
    "#rolls for player1:\n",
    "roll1 = random.randint(1,6)\n",
    "roll2 = random.randint(1,6)\n",
    "player1sum = roll1 + roll2\n",
    "print(\"Player 1 Sum: \" + str(player1sum))\n",
    "\n",
    "#rolls for player2:\n",
    "roll1 = random.randint(1,6)\n",
    "roll2 = random.randint(1,6)\n",
    "player2sum = roll1 + roll2\n",
    "print(\"Player 2 Sum: \" + str(player2sum))\n",
    "\n",
    "#Displaying which player is the winner:\n",
    "if player1sum > player2sum:\n",
    "    print(\"Player 1 is the winner!\")\n",
    "elif player1sum < player2sum:\n",
    "    print(\"Player 2 is the winner!\")\n",
    "else:\n",
    "    print(\"Both players have tied!\")"
   ]
  },
  {
   "attachments": {},
   "cell_type": "markdown",
   "metadata": {},
   "source": [
    "### Extra Credit\n",
    "\n",
    "Create a program to randomly generate one of those 5x5 square CollegeBoard robot courses frequently seen in these lessons. Here are the criteria:\n",
    "\n",
    "- No need to create a graphical user interface (output the course in graphical form); that would be too demanding. You can use store your randomizations in variables to be printed, after which you can sketch one instance of your output using any means (handdrawn, google drawings, etc.) to attach to your submission as an image.\n",
    "\n",
    "- Your illustration can differ graphically from CollegeBoard's illustrations as long as the robot, its direction, the wall squares, and the goal square are fairly self-evident (ie you can make the goal a present or food instead of a gray square)\n",
    "\n",
    "You must randomize the following:\n",
    "\n",
    "1. Initial direction of the robot (up, down, left, right)\n",
    "1. Initial Position of the robot\n",
    "1. Goal position\n",
    "1. Positions of at least 12 wall/obstacle squares\n",
    "\n",
    "The latter three must be mutually exclusive (on different squares). This prevents you from generating a course where the robot is on the goal, on a wall square, or the goal is in a wall square"
   ]
  },
  {
   "cell_type": "code",
   "execution_count": 51,
   "metadata": {},
   "outputs": [
    {
     "name": "stdout",
     "output_type": "stream",
     "text": [
      "Initial Direction: up\n",
      "Initial Position: 5\n",
      "Goal Position: 9\n",
      "Location of Obstacles: [15, 8, 12, 24, 20, 21, 19, 18, 3, 1, 2, 4]\n"
     ]
    }
   ],
   "source": [
    "import random\n",
    "\n",
    "directions = [\"up\", \"down\", \"left\", \"right\"]\n",
    "initialDirection = random.choice(directions) # randomly chooses direction\n",
    "print(\"Initial Direction: \" + initialDirection) \n",
    "\n",
    "initialPosition = random.randint(1,25) # integer generated represents square number\n",
    "print(\"Initial Position: \" + str(initialPosition))\n",
    "\n",
    "goalPosition = random.randint(1,25)\n",
    "while goalPosition == initialPosition: # while loops ensures initial position can't be same as goal position\n",
    "    goalPosition = random.randint(1,25)\n",
    "print(\"Goal Position: \" + str(goalPosition))\n",
    "\n",
    "obstacles = [] # list that will hold all obstacle square numbers\n",
    "checkDuplicates = []\n",
    "\n",
    "for i in range(12): # generates 12 obstacles\n",
    "    a = random.randint(1,25)\n",
    "    while a in checkDuplicates: # makes sure a is not already present in list to ensure unique obstacle squares\n",
    "        a = random.randint(1,25)\n",
    "    while a == initialPosition or a == goalPosition: # makes sure a is not equal to initial or goal squares\n",
    "        a = random.randint(1,25)\n",
    "    checkDuplicates.append(a)\n",
    "    obstacles.append(a)\n",
    "\n",
    "print(\"Location of Obstacles: \" + str(obstacles))\n"
   ]
  },
  {
   "attachments": {},
   "cell_type": "markdown",
   "metadata": {},
   "source": [
    "### [Robot Course for Code Above](https://sachitcode.github.io/fastpages-sachit-blog/markdown/2022/12/29/robotCourseImage.html)"
   ]
  }
 ],
 "metadata": {
  "kernelspec": {
   "display_name": "Python 3.9.6 64-bit",
   "language": "python",
   "name": "python3"
  },
  "language_info": {
   "codemirror_mode": {
    "name": "ipython",
    "version": 3
   },
   "file_extension": ".py",
   "mimetype": "text/x-python",
   "name": "python",
   "nbconvert_exporter": "python",
   "pygments_lexer": "ipython3",
   "version": "3.9.6"
  },
  "orig_nbformat": 4,
  "vscode": {
   "interpreter": {
    "hash": "31f2aee4e71d21fbe5cf8b01ff0e069b9275f58929596ceb00d14d90e3e16cd6"
   }
  }
 },
 "nbformat": 4,
 "nbformat_minor": 2
}
